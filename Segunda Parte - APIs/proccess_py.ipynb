{
 "cells": [
  {
   "cell_type": "markdown",
   "metadata": {},
   "source": [
    "Consignas\n",
    "1) Barrer una lista de más de 150 ítems ids en el servicio público:\n",
    "https://api.mercadolibre.com/sites/MLA/search?q=chromecast&limit=50#json\n",
    "En este caso particular y solo a modo de ejemplo, son resultados para la búsqueda\n",
    "“chromecast”, pero deberás elegir otros términos para el experimento que permitan\n",
    "enriquecer el análisis en un hipotético dashboard (ejemplo Google Home, Apple TV,\n",
    "Amazon Fire TV, o afines para poder comparar dispositivos portátiles, o bien elegir\n",
    "otros 3 que te interesen para comparar).\n",
    "2) Por cada resultado, realizar el correspondiente GET por Item_Id al recurso público:\n",
    "https://api.mercadolibre.com/items/{Item_Id}\n",
    "3) Escribir los resultados en un archivo plano delimitado por comas, desnormalizando\n",
    "el JSON obtenido en el paso anterior, en tantos campos como sea necesario para\n",
    "guardar las variables que te interesen modelar"
   ]
  },
  {
   "cell_type": "code",
   "execution_count": 9,
   "metadata": {},
   "outputs": [],
   "source": [
    "import requests\n",
    "import pandas as pd\n",
    "import seaborn as sns\n",
    "pd.set_option('display.max_columns', None)\n",
    "pd.set_option('display.max_rows', None)"
   ]
  },
  {
   "cell_type": "markdown",
   "metadata": {},
   "source": [
    "## chromecast"
   ]
  },
  {
   "cell_type": "code",
   "execution_count": 10,
   "metadata": {},
   "outputs": [],
   "source": [
    "df = pd.DataFrame(requests.get(\"https://api.mercadolibre.com/sites/MLA/search?q=chromecast&limit=50#json\").json()['results'])\n",
    "df['amount'] = df.installments.map(lambda x: x['amount'])\n",
    "df['rate'] = df.installments.map(lambda x: x['rate'])\n",
    "\n",
    "price_median_chromecast = df.price.median()\n",
    "amount_median_chromecast = df.amount.median()\n",
    "rate_median_chromecast = df.rate.median()"
   ]
  },
  {
   "cell_type": "markdown",
   "metadata": {},
   "source": [
    "## Tv Apple"
   ]
  },
  {
   "cell_type": "code",
   "execution_count": 11,
   "metadata": {},
   "outputs": [],
   "source": [
    "df = pd.DataFrame(requests.get(\"https://api.mercadolibre.com/sites/MLA/search?q=TV Apple&limit=50#json\").json()['results'])\n",
    "df['amount'] = df.installments.map(lambda x: x['amount'])\n",
    "df['rate'] = df.installments.map(lambda x: x['rate'])\n",
    "\n",
    "price_median_tvApple = df.price.median()\n",
    "amount_median_tvApple = df.amount.median()\n",
    "rate_median_tvApple = df.rate.median()"
   ]
  },
  {
   "cell_type": "markdown",
   "metadata": {},
   "source": [
    "## Amazon Fire TV"
   ]
  },
  {
   "cell_type": "code",
   "execution_count": 12,
   "metadata": {},
   "outputs": [],
   "source": [
    "df = pd.DataFrame(requests.get(\"https://api.mercadolibre.com/sites/MLA/search?q=Amazon Fire TV&limit=50#json\").json()['results'])\n",
    "df['amount'] = df.installments.map(lambda x: x['amount'])\n",
    "df['rate'] = df.installments.map(lambda x: x['rate'])\n",
    "\n",
    "price_median_amazonFireTv = df.price.median()\n",
    "amount_median_amazonFireTv = df.amount.median()\n",
    "rate_median_amazonFireTv = df.rate.median()"
   ]
  },
  {
   "cell_type": "code",
   "execution_count": 33,
   "metadata": {},
   "outputs": [],
   "source": [
    "serie_class = pd.Series(['Chromecast','Tv Apple','Amazon Fire TV'])\n",
    "serie_price_median = pd.Series([price_median_chromecast,price_median_tvApple,price_median_amazonFireTv])\n",
    "serie_amount_median = pd.Series([amount_median_chromecast,amount_median_tvApple,amount_median_amazonFireTv])\n",
    "serie_rate_median = pd.Series([rate_median_chromecast,rate_median_tvApple,rate_median_amazonFireTv])"
   ]
  },
  {
   "cell_type": "code",
   "execution_count": 36,
   "metadata": {},
   "outputs": [],
   "source": [
    "df_price = pd.DataFrame({'products':serie_class,'values':serie_price_median})\n",
    "df_price['type'] = 'price'\n",
    "df_price"
   ]
  },
  {
   "cell_type": "code",
   "execution_count": 41,
   "metadata": {},
   "outputs": [
    {
     "data": {
      "text/html": [
       "<div>\n",
       "<style scoped>\n",
       "    .dataframe tbody tr th:only-of-type {\n",
       "        vertical-align: middle;\n",
       "    }\n",
       "\n",
       "    .dataframe tbody tr th {\n",
       "        vertical-align: top;\n",
       "    }\n",
       "\n",
       "    .dataframe thead th {\n",
       "        text-align: right;\n",
       "    }\n",
       "</style>\n",
       "<table border=\"1\" class=\"dataframe\">\n",
       "  <thead>\n",
       "    <tr style=\"text-align: right;\">\n",
       "      <th></th>\n",
       "      <th>products</th>\n",
       "      <th>values</th>\n",
       "      <th>type</th>\n",
       "    </tr>\n",
       "  </thead>\n",
       "  <tbody>\n",
       "    <tr>\n",
       "      <th>0</th>\n",
       "      <td>Chromecast</td>\n",
       "      <td>1041.035</td>\n",
       "      <td>amount</td>\n",
       "    </tr>\n",
       "    <tr>\n",
       "      <th>1</th>\n",
       "      <td>Tv Apple</td>\n",
       "      <td>2231.910</td>\n",
       "      <td>amount</td>\n",
       "    </tr>\n",
       "    <tr>\n",
       "      <th>2</th>\n",
       "      <td>Amazon Fire TV</td>\n",
       "      <td>1559.750</td>\n",
       "      <td>amount</td>\n",
       "    </tr>\n",
       "  </tbody>\n",
       "</table>\n",
       "</div>"
      ],
      "text/plain": [
       "         products    values    type\n",
       "0      Chromecast  1041.035  amount\n",
       "1        Tv Apple  2231.910  amount\n",
       "2  Amazon Fire TV  1559.750  amount"
      ]
     },
     "execution_count": 41,
     "metadata": {},
     "output_type": "execute_result"
    }
   ],
   "source": [
    "df_amount = pd.DataFrame({'products':serie_class,'values':serie_amount_median})\n",
    "df_amount['type'] = 'amount'\n",
    "df_amount"
   ]
  },
  {
   "cell_type": "code",
   "execution_count": 42,
   "metadata": {},
   "outputs": [
    {
     "data": {
      "text/html": [
       "<div>\n",
       "<style scoped>\n",
       "    .dataframe tbody tr th:only-of-type {\n",
       "        vertical-align: middle;\n",
       "    }\n",
       "\n",
       "    .dataframe tbody tr th {\n",
       "        vertical-align: top;\n",
       "    }\n",
       "\n",
       "    .dataframe thead th {\n",
       "        text-align: right;\n",
       "    }\n",
       "</style>\n",
       "<table border=\"1\" class=\"dataframe\">\n",
       "  <thead>\n",
       "    <tr style=\"text-align: right;\">\n",
       "      <th></th>\n",
       "      <th>products</th>\n",
       "      <th>values</th>\n",
       "      <th>type</th>\n",
       "    </tr>\n",
       "  </thead>\n",
       "  <tbody>\n",
       "    <tr>\n",
       "      <th>0</th>\n",
       "      <td>Chromecast</td>\n",
       "      <td>70.17</td>\n",
       "      <td>rate</td>\n",
       "    </tr>\n",
       "    <tr>\n",
       "      <th>1</th>\n",
       "      <td>Tv Apple</td>\n",
       "      <td>70.17</td>\n",
       "      <td>rate</td>\n",
       "    </tr>\n",
       "    <tr>\n",
       "      <th>2</th>\n",
       "      <td>Amazon Fire TV</td>\n",
       "      <td>70.17</td>\n",
       "      <td>rate</td>\n",
       "    </tr>\n",
       "  </tbody>\n",
       "</table>\n",
       "</div>"
      ],
      "text/plain": [
       "         products  values  type\n",
       "0      Chromecast   70.17  rate\n",
       "1        Tv Apple   70.17  rate\n",
       "2  Amazon Fire TV   70.17  rate"
      ]
     },
     "execution_count": 42,
     "metadata": {},
     "output_type": "execute_result"
    }
   ],
   "source": [
    "df_rate = pd.DataFrame({'products':serie_class,'values':serie_rate_median})\n",
    "df_rate['type'] = 'rate'\n",
    "df_rate"
   ]
  },
  {
   "cell_type": "code",
   "execution_count": 44,
   "metadata": {},
   "outputs": [],
   "source": [
    "df = pd.concat([df_price,df_amount,df_rate],axis=0)"
   ]
  },
  {
   "cell_type": "code",
   "execution_count": null,
   "metadata": {},
   "outputs": [],
   "source": []
  },
  {
   "cell_type": "code",
   "execution_count": null,
   "metadata": {},
   "outputs": [],
   "source": []
  },
  {
   "cell_type": "markdown",
   "metadata": {},
   "source": [
    "## Comparativa Dispositivos Moviles"
   ]
  },
  {
   "cell_type": "code",
   "execution_count": 49,
   "metadata": {},
   "outputs": [
    {
     "name": "stderr",
     "output_type": "stream",
     "text": [
      "/usr/local/lib/python3.6/dist-packages/seaborn/categorical.py:3714: UserWarning: The `factorplot` function has been renamed to `catplot`. The original name will be removed in a future release. Please update your code. Note that the default `kind` in `factorplot` (`'point'`) has changed `'strip'` in `catplot`.\n",
      "  warnings.warn(msg)\n"
     ]
    },
    {
     "data": {
      "text/plain": [
       "<seaborn.axisgrid.FacetGrid at 0x7f1f2e9214e0>"
      ]
     },
     "execution_count": 49,
     "metadata": {},
     "output_type": "execute_result"
    },
    {
     "data": {
      "image/png": "[encoded data removed]",
      "text/plain": [
       "<Figure size 420.875x360 with 1 Axes>"
      ]
     },
     "metadata": {
      "needs_background": "light"
     },
     "output_type": "display_data"
    }
   ],
   "source": [
    "sns.factorplot(x='products', y='values', hue='type', data=df_price, kind='bar')"
   ]
  },
  {
   "cell_type": "code",
   "execution_count": 53,
   "metadata": {},
   "outputs": [
    {
     "name": "stderr",
     "output_type": "stream",
     "text": [
      "/usr/local/lib/python3.6/dist-packages/seaborn/categorical.py:3714: UserWarning: The `factorplot` function has been renamed to `catplot`. The original name will be removed in a future release. Please update your code. Note that the default `kind` in `factorplot` (`'point'`) has changed `'strip'` in `catplot`.\n",
      "  warnings.warn(msg)\n"
     ]
    },
    {
     "data": {
      "text/plain": [
       "<seaborn.axisgrid.FacetGrid at 0x7f1f2e8b4518>"
      ]
     },
     "execution_count": 53,
     "metadata": {},
     "output_type": "execute_result"
    },
    {
     "data": {
      "image/png": "[encoded data removed]",
      "text/plain": [
       "<Figure size 434.375x360 with 1 Axes>"
      ]
     },
     "metadata": {
      "needs_background": "light"
     },
     "output_type": "display_data"
    }
   ],
   "source": [
    "sns.factorplot(x='products', y='values', hue='type',data=df_amount, kind='bar')"
   ]
  },
  {
   "cell_type": "code",
   "execution_count": 54,
   "metadata": {},
   "outputs": [
    {
     "name": "stderr",
     "output_type": "stream",
     "text": [
      "/usr/local/lib/python3.6/dist-packages/seaborn/categorical.py:3714: UserWarning: The `factorplot` function has been renamed to `catplot`. The original name will be removed in a future release. Please update your code. Note that the default `kind` in `factorplot` (`'point'`) has changed `'strip'` in `catplot`.\n",
      "  warnings.warn(msg)\n"
     ]
    },
    {
     "data": {
      "text/plain": [
       "<seaborn.axisgrid.FacetGrid at 0x7f1f151e7be0>"
      ]
     },
     "execution_count": 54,
     "metadata": {},
     "output_type": "execute_result"
    },
    {
     "data": {
      "image/png": "[encoded data removed]",
      "text/plain": [
       "<Figure size 416.25x360 with 1 Axes>"
      ]
     },
     "metadata": {
      "needs_background": "light"
     },
     "output_type": "display_data"
    }
   ],
   "source": [
    "sns.factorplot(x='products', y='values', hue='type', data=df_rate, kind='bar')"
   ]
  },
  {
   "cell_type": "code",
   "execution_count": 55,
   "metadata": {},
   "outputs": [
    {
     "name": "stderr",
     "output_type": "stream",
     "text": [
      "/usr/local/lib/python3.6/dist-packages/seaborn/categorical.py:3714: UserWarning: The `factorplot` function has been renamed to `catplot`. The original name will be removed in a future release. Please update your code. Note that the default `kind` in `factorplot` (`'point'`) has changed `'strip'` in `catplot`.\n",
      "  warnings.warn(msg)\n"
     ]
    },
    {
     "data": {
      "text/plain": [
       "<seaborn.axisgrid.FacetGrid at 0x7f1f151dac50>"
      ]
     },
     "execution_count": 55,
     "metadata": {},
     "output_type": "execute_result"
    },
    {
     "data": {
      "image/png": "[encoded data removed]",
      "text/plain": [
       "<Figure size 434.375x360 with 1 Axes>"
      ]
     },
     "metadata": {
      "needs_background": "light"
     },
     "output_type": "display_data"
    }
   ],
   "source": [
    "sns.factorplot(x='products', y='values', hue='type', data=df, kind='bar')"
   ]
  },
  {
   "cell_type": "code",
   "execution_count": null,
   "metadata": {},
   "outputs": [],
   "source": []
  },
  {
   "cell_type": "markdown",
   "metadata": {},
   "source": [
    "# 2"
   ]
  },
  {
   "cell_type": "code",
   "execution_count": 148,
   "metadata": {},
   "outputs": [],
   "source": [
    "df = pd.DataFrame(requests.get(\"https://api.mercadolibre.com/sites/MLA/search?q=chromecast&limit=50#json\").json()['results'])\n",
    "df['amount'] = df.installments.map(lambda x: x['amount'])\n",
    "df['rate'] = df.installments.map(lambda x: x['rate'])"
   ]
  },
  {
   "cell_type": "code",
   "execution_count": 150,
   "metadata": {},
   "outputs": [
    {
     "name": "stdout",
     "output_type": "stream",
     "text": [
      "0\n",
      "1\n",
      "2\n",
      "3\n",
      "4\n",
      "5\n",
      "6\n",
      "7\n",
      "8\n",
      "9\n",
      "10\n",
      "11\n",
      "12\n",
      "13\n",
      "14\n",
      "15\n",
      "16\n",
      "17\n",
      "18\n",
      "19\n",
      "20\n",
      "21\n",
      "22\n",
      "23\n",
      "24\n",
      "25\n",
      "26\n",
      "27\n",
      "28\n",
      "29\n",
      "30\n",
      "31\n",
      "32\n",
      "33\n",
      "34\n",
      "35\n",
      "36\n",
      "37\n",
      "38\n",
      "39\n",
      "40\n",
      "41\n",
      "42\n",
      "43\n",
      "44\n",
      "45\n",
      "46\n",
      "47\n",
      "48\n",
      "49\n"
     ]
    }
   ],
   "source": [
    "for indx, i in enumerate(df['id']):\n",
    "    print(indx)\n",
    "    if indx==0:\n",
    "        json_get = requests.get(\"https://api.mercadolibre.com/items/\"+i).json()\n",
    "        df = pd.DataFrame(requests.get(\"https://api.mercadolibre.com/items/\"+i).json()['sale_terms'])\n",
    "        df['id'] = json_get['id']\n",
    "        df['site_id'] = json_get['site_id']\n",
    "        df['title'] = json_get['title']\n",
    "        df['subtitle'] = json_get['subtitle']\n",
    "        df['seller_id'] = json_get['seller_id']\n",
    "        df['category_id'] = json_get['category_id']\n",
    "        df['official_store_id'] = json_get['official_store_id']\n",
    "        df['price'] = json_get['price']\n",
    "        df['base_price'] = json_get['base_price']\n",
    "        df['original_price'] = json_get['original_price']\n",
    "        df['currency_id'] = json_get['currency_id']\n",
    "        df['initial_quantity'] = json_get['initial_quantity']\n",
    "        df['available_quantity'] = json_get['available_quantity']\n",
    "        df['sold_quantity'] = json_get['sold_quantity']\n",
    "    else:\n",
    "        json_get = requests.get(\"https://api.mercadolibre.com/items/\"+i).json()\n",
    "        df_aux = pd.DataFrame(requests.get(\"https://api.mercadolibre.com/items/\"+i).json()['sale_terms'])\n",
    "        df_aux['id'] = json_get['id']\n",
    "        df_aux['site_id'] = json_get['site_id']\n",
    "        df_aux['title'] = json_get['title']\n",
    "        df_aux['subtitle'] = json_get['subtitle']\n",
    "        df_aux['seller_id'] = json_get['seller_id']\n",
    "        df_aux['category_id'] = json_get['category_id']\n",
    "        df_aux['official_store_id'] = json_get['official_store_id']\n",
    "        df_aux['price'] = json_get['price']\n",
    "        df_aux['base_price'] = json_get['base_price']\n",
    "        df_aux['original_price'] = json_get['original_price']\n",
    "        df_aux['currency_id'] = json_get['currency_id']\n",
    "        df_aux['initial_quantity'] = json_get['initial_quantity']\n",
    "        df_aux['available_quantity'] = json_get['available_quantity']\n",
    "        df_aux['sold_quantity'] = json_get['sold_quantity']\n",
    "        \n",
    "        df = pd.concat([df,df_aux],axis=0)"
   ]
  },
  {
   "cell_type": "code",
   "execution_count": 152,
   "metadata": {},
   "outputs": [],
   "source": [
    "df.to_csv('get_data_process.csv',sep='|',index=False)"
   ]
  },
  {
   "cell_type": "code",
   "execution_count": null,
   "metadata": {},
   "outputs": [],
   "source": []
  },
  {
   "cell_type": "code",
   "execution_count": null,
   "metadata": {},
   "outputs": [],
   "source": []
  },
  {
   "cell_type": "code",
   "execution_count": null,
   "metadata": {},
   "outputs": [],
   "source": []
  },
  {
   "cell_type": "code",
   "execution_count": 90,
   "metadata": {},
   "outputs": [],
   "source": []
  },
  {
   "cell_type": "code",
   "execution_count": null,
   "metadata": {},
   "outputs": [],
   "source": []
  },
  {
   "cell_type": "code",
   "execution_count": 88,
   "metadata": {},
   "outputs": [],
   "source": []
  },
  {
   "cell_type": "code",
   "execution_count": null,
   "metadata": {},
   "outputs": [],
   "source": []
  },
  {
   "cell_type": "code",
   "execution_count": null,
   "metadata": {},
   "outputs": [],
   "source": []
  },
  {
   "cell_type": "code",
   "execution_count": null,
   "metadata": {},
   "outputs": [],
   "source": []
  }
 ],
 "metadata": {
  "kernelspec": {
   "display_name": "Python 3",
   "language": "python",
   "name": "python3"
  },
  "language_info": {
   "codemirror_mode": {
    "name": "ipython",
    "version": 3
   },
   "file_extension": ".py",
   "mimetype": "text/x-python",
   "name": "python",
   "nbconvert_exporter": "python",
   "pygments_lexer": "ipython3",
   "version": "3.6.9"
  }
 },
 "nbformat": 4,
 "nbformat_minor": 2
}
